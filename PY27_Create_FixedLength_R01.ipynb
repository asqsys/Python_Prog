{
  "nbformat": 4,
  "nbformat_minor": 0,
  "metadata": {
    "colab": {
      "name": "PY27_Create_FixedLength_R01.ipynb",
      "version": "0.3.2",
      "provenance": [],
      "include_colab_link": true
    },
    "kernelspec": {
      "name": "python2",
      "display_name": "Python 2"
    }
  },
  "cells": [
    {
      "cell_type": "markdown",
      "metadata": {
        "id": "view-in-github",
        "colab_type": "text"
      },
      "source": [
        "<a href=\"https://colab.research.google.com/github/asqsys/Perl_Prog/blob/master/PY27_Create_FixedLength_R01.ipynb\" target=\"_parent\"><img src=\"https://colab.research.google.com/assets/colab-badge.svg\" alt=\"Open In Colab\"/></a>"
      ]
    },
    {
      "cell_type": "code",
      "metadata": {
        "id": "BTlfiK_DSN8z",
        "colab_type": "code",
        "outputId": "d30afef2-0cee-4c93-ee25-5fb159969388",
        "colab": {
          "base_uri": "https://localhost:8080/",
          "height": 207
        }
      },
      "source": [
        "import csv\n",
        "with open('12K_SAMPLE_Fixe.csv') as csvfile:\n",
        "    #spamreader = csv.reader(csvfile, delimiter=';')\n",
        "    sreader = csv.reader(csvfile)\n",
        "    for row in sreader:\n",
        "        print row\n",
        "        print(', '.join(row))"
      ],
      "execution_count": 4,
      "outputs": [
        {
          "output_type": "stream",
          "text": [
            "['Company Code;Account of Operational CoA;Long text of account of operational CoA;Specify if account is P/L or BS;Group Account Number;Account group;Field status group ;Alternative account number;Posting without tax allowed']\n",
            "Company Code;Account of Operational CoA;Long text of account of operational CoA;Specify if account is P/L or BS;Group Account Number;Account group;Field status group ;Alternative account number;Posting without tax allowed\n",
            "['FR34;SII2922121;Impairment (credit loss) - Government bonds AFSXXX;X;oooooooooo;S2AS;MS03;oooooooooo;x']\n",
            "FR34;SII2922121;Impairment (credit loss) - Government bonds AFSXXX;X;oooooooooo;S2AS;MS03;oooooooooo;x\n",
            "['FR21;4204000701;Receivables-Salary tax&empl contrib-Education taxX;X;oooooooooo;ASTo;Y048;4473oooooo;x']\n",
            "FR21;4204000701;Receivables-Salary tax&empl contrib-Education taxX;X;oooooooooo;ASTo;Y048;4473oooooo;x\n",
            "['FR93;7622KQ0L00;Bonds- Inc- Bonds-rel-nonLXXXXXXXXXXXXXXXXXXXXXXXX;0;oooooooooo;P&Lo;Y241;760300oooo;x']\n",
            "FR93;7622KQ0L00;Bonds- Inc- Bonds-rel-nonLXXXXXXXXXXXXXXXXXXXXXXXX;0;oooooooooo;P&Lo;Y241;760300oooo;x\n",
            "['FR93;7622KQ0Q35;tbdXXXXXXXXXXXXXXXXXXXXXXXXXXXXXXXXXXXXXXXXXXXXXXX;0;oooooooooo;P&Lo;Y241;760301oooo;x']\n",
            "FR93;7622KQ0Q35;tbdXXXXXXXXXXXXXXXXXXXXXXXXXXXXXXXXXXXXXXXXXXXXXXX;0;oooooooooo;P&Lo;Y241;760301oooo;x\n"
          ],
          "name": "stdout"
        }
      ]
    }
  ]
}