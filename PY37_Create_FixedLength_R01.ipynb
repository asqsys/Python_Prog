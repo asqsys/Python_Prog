{
  "nbformat": 4,
  "nbformat_minor": 0,
  "metadata": {
    "colab": {
      "name": "PY37_Create_FixedLength_R01.ipynb",
      "version": "0.3.2",
      "provenance": [],
      "collapsed_sections": [],
      "include_colab_link": true
    },
    "kernelspec": {
      "name": "python3",
      "display_name": "Python 3"
    }
  },
  "cells": [
    {
      "cell_type": "markdown",
      "metadata": {
        "id": "view-in-github",
        "colab_type": "text"
      },
      "source": [
        "<a href=\"https://colab.research.google.com/github/asqsys/Perl_Prog/blob/master/PY37_Create_FixedLength_R01.ipynb\" target=\"_parent\"><img src=\"https://colab.research.google.com/assets/colab-badge.svg\" alt=\"Open In Colab\"/></a>"
      ]
    },
    {
      "cell_type": "code",
      "metadata": {
        "id": "glSVRhUORtoY",
        "colab_type": "code",
        "colab": {}
      },
      "source": [
        "import csv\n",
        "with open('12K_SAMPLE_Fixe.csv') as csvfile:\n",
        "    #spamreader = csv.reader(csvfile, delimiter=';')\n",
        "    sreader = csv.reader(csvfile)\n",
        "    for row in sreader:\n",
        "        print (\"row\")\n",
        "        print(', '.join(row))"
      ],
      "execution_count": 0,
      "outputs": []
    }
  ]
}