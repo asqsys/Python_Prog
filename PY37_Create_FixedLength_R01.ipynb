{
  "nbformat": 4,
  "nbformat_minor": 0,
  "metadata": {
    "colab": {
      "name": "PY37_Create_FixedLength_R01.ipynb",
      "version": "0.3.2",
      "provenance": [],
      "collapsed_sections": [],
      "include_colab_link": true
    },
    "kernelspec": {
      "name": "python3",
      "display_name": "Python 3"
    }
  },
  "cells": [
    {
      "cell_type": "markdown",
      "metadata": {
        "id": "view-in-github",
        "colab_type": "text"
      },
      "source": [
        "<a href=\"https://colab.research.google.com/github/asqsys/Perl_Prog/blob/master/PY37_Create_FixedLength_R01.ipynb\" target=\"_parent\"><img src=\"https://colab.research.google.com/assets/colab-badge.svg\" alt=\"Open In Colab\"/></a>"
      ]
    },
    {
      "cell_type": "code",
      "metadata": {
        "id": "glSVRhUORtoY",
        "colab_type": "code",
        "colab": {
          "base_uri": "https://localhost:8080/",
          "height": 129
        },
        "outputId": "a3090e33-adfd-436a-b31f-65063235c080"
      },
      "source": [
        "import csv\n",
        "with open('12K_SAMPLE_Fixe.csv') as csvfile:\n",
        "    #spamreader = csv.reader(csvfile, delimiter=';')\n",
        "    sreader = csv.reader(csvfile)\n",
        "    for row in sreader:\n",
        "        print \"row\"\n",
        "        print(', '.join(row))"
      ],
      "execution_count": 1,
      "outputs": [
        {
          "output_type": "error",
          "ename": "SyntaxError",
          "evalue": "ignored",
          "traceback": [
            "\u001b[0;36m  File \u001b[0;32m\"<ipython-input-1-40ef04e0c6b0>\"\u001b[0;36m, line \u001b[0;32m6\u001b[0m\n\u001b[0;31m    print row\u001b[0m\n\u001b[0m            ^\u001b[0m\n\u001b[0;31mSyntaxError\u001b[0m\u001b[0;31m:\u001b[0m Missing parentheses in call to 'print'. Did you mean print(row)?\n"
          ]
        }
      ]
    }
  ]
}